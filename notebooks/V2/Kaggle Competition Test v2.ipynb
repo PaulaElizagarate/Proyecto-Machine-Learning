{
 "cells": [
  {
   "cell_type": "code",
   "execution_count": 1,
   "id": "baee760e",
   "metadata": {},
   "outputs": [],
   "source": [
    "# Tratamiento de datos\n",
    "# ==============================================================================\n",
    "import numpy as np\n",
    "import pandas as pd\n",
    "import sidetable\n",
    "\n",
    "# Gráficos\n",
    "# ==============================================================================\n",
    "import matplotlib.pyplot as plt\n",
    "import seaborn as sns\n",
    "\n",
    "import pickle"
   ]
  },
  {
   "cell_type": "code",
   "execution_count": 2,
   "id": "077f2492",
   "metadata": {
    "scrolled": false
   },
   "outputs": [
    {
     "data": {
      "text/html": [
       "<div>\n",
       "<style scoped>\n",
       "    .dataframe tbody tr th:only-of-type {\n",
       "        vertical-align: middle;\n",
       "    }\n",
       "\n",
       "    .dataframe tbody tr th {\n",
       "        vertical-align: top;\n",
       "    }\n",
       "\n",
       "    .dataframe thead th {\n",
       "        text-align: right;\n",
       "    }\n",
       "</style>\n",
       "<table border=\"1\" class=\"dataframe\">\n",
       "  <thead>\n",
       "    <tr style=\"text-align: right;\">\n",
       "      <th></th>\n",
       "      <th>id</th>\n",
       "      <th>carat</th>\n",
       "      <th>cut</th>\n",
       "      <th>color</th>\n",
       "      <th>clarity</th>\n",
       "      <th>depth</th>\n",
       "      <th>table</th>\n",
       "      <th>x</th>\n",
       "      <th>y</th>\n",
       "      <th>z</th>\n",
       "    </tr>\n",
       "  </thead>\n",
       "  <tbody>\n",
       "    <tr>\n",
       "      <th>0</th>\n",
       "      <td>0</td>\n",
       "      <td>0.32</td>\n",
       "      <td>Ideal</td>\n",
       "      <td>I</td>\n",
       "      <td>SI1</td>\n",
       "      <td>60.5</td>\n",
       "      <td>58.0</td>\n",
       "      <td>4.43</td>\n",
       "      <td>4.49</td>\n",
       "      <td>2.70</td>\n",
       "    </tr>\n",
       "    <tr>\n",
       "      <th>1</th>\n",
       "      <td>1</td>\n",
       "      <td>1.24</td>\n",
       "      <td>Premium</td>\n",
       "      <td>I</td>\n",
       "      <td>SI1</td>\n",
       "      <td>62.9</td>\n",
       "      <td>60.0</td>\n",
       "      <td>6.80</td>\n",
       "      <td>6.74</td>\n",
       "      <td>4.26</td>\n",
       "    </tr>\n",
       "    <tr>\n",
       "      <th>2</th>\n",
       "      <td>2</td>\n",
       "      <td>1.66</td>\n",
       "      <td>Premium</td>\n",
       "      <td>D</td>\n",
       "      <td>SI1</td>\n",
       "      <td>62.0</td>\n",
       "      <td>59.0</td>\n",
       "      <td>7.55</td>\n",
       "      <td>7.60</td>\n",
       "      <td>4.70</td>\n",
       "    </tr>\n",
       "    <tr>\n",
       "      <th>3</th>\n",
       "      <td>3</td>\n",
       "      <td>0.75</td>\n",
       "      <td>Premium</td>\n",
       "      <td>D</td>\n",
       "      <td>SI2</td>\n",
       "      <td>60.6</td>\n",
       "      <td>56.0</td>\n",
       "      <td>5.94</td>\n",
       "      <td>5.90</td>\n",
       "      <td>3.59</td>\n",
       "    </tr>\n",
       "    <tr>\n",
       "      <th>4</th>\n",
       "      <td>4</td>\n",
       "      <td>1.50</td>\n",
       "      <td>Fair</td>\n",
       "      <td>E</td>\n",
       "      <td>SI2</td>\n",
       "      <td>64.8</td>\n",
       "      <td>55.0</td>\n",
       "      <td>7.26</td>\n",
       "      <td>7.15</td>\n",
       "      <td>4.67</td>\n",
       "    </tr>\n",
       "  </tbody>\n",
       "</table>\n",
       "</div>"
      ],
      "text/plain": [
       "   id  carat      cut color clarity  depth  table     x     y     z\n",
       "0   0   0.32    Ideal     I     SI1   60.5   58.0  4.43  4.49  2.70\n",
       "1   1   1.24  Premium     I     SI1   62.9   60.0  6.80  6.74  4.26\n",
       "2   2   1.66  Premium     D     SI1   62.0   59.0  7.55  7.60  4.70\n",
       "3   3   0.75  Premium     D     SI2   60.6   56.0  5.94  5.90  3.59\n",
       "4   4   1.50     Fair     E     SI2   64.8   55.0  7.26  7.15  4.67"
      ]
     },
     "execution_count": 2,
     "metadata": {},
     "output_type": "execute_result"
    }
   ],
   "source": [
    "df = pd.read_csv(\"../../data/test.csv\")\n",
    "df.head()"
   ]
  },
  {
   "cell_type": "code",
   "execution_count": 3,
   "id": "253d1b03",
   "metadata": {},
   "outputs": [],
   "source": [
    "df= df.drop([\"id\",\"x\",\"y\",\"z\"], axis=1)"
   ]
  },
  {
   "cell_type": "code",
   "execution_count": 4,
   "id": "5234d6f9",
   "metadata": {},
   "outputs": [
    {
     "data": {
      "text/html": [
       "<div>\n",
       "<style scoped>\n",
       "    .dataframe tbody tr th:only-of-type {\n",
       "        vertical-align: middle;\n",
       "    }\n",
       "\n",
       "    .dataframe tbody tr th {\n",
       "        vertical-align: top;\n",
       "    }\n",
       "\n",
       "    .dataframe thead th {\n",
       "        text-align: right;\n",
       "    }\n",
       "</style>\n",
       "<table border=\"1\" class=\"dataframe\">\n",
       "  <thead>\n",
       "    <tr style=\"text-align: right;\">\n",
       "      <th></th>\n",
       "      <th>carat</th>\n",
       "      <th>depth</th>\n",
       "      <th>table</th>\n",
       "    </tr>\n",
       "  </thead>\n",
       "  <tbody>\n",
       "    <tr>\n",
       "      <th>0</th>\n",
       "      <td>0.32</td>\n",
       "      <td>60.5</td>\n",
       "      <td>58.0</td>\n",
       "    </tr>\n",
       "    <tr>\n",
       "      <th>1</th>\n",
       "      <td>1.24</td>\n",
       "      <td>62.9</td>\n",
       "      <td>60.0</td>\n",
       "    </tr>\n",
       "    <tr>\n",
       "      <th>2</th>\n",
       "      <td>1.66</td>\n",
       "      <td>62.0</td>\n",
       "      <td>59.0</td>\n",
       "    </tr>\n",
       "    <tr>\n",
       "      <th>3</th>\n",
       "      <td>0.75</td>\n",
       "      <td>60.6</td>\n",
       "      <td>56.0</td>\n",
       "    </tr>\n",
       "    <tr>\n",
       "      <th>4</th>\n",
       "      <td>1.50</td>\n",
       "      <td>64.8</td>\n",
       "      <td>55.0</td>\n",
       "    </tr>\n",
       "    <tr>\n",
       "      <th>...</th>\n",
       "      <td>...</td>\n",
       "      <td>...</td>\n",
       "      <td>...</td>\n",
       "    </tr>\n",
       "    <tr>\n",
       "      <th>13480</th>\n",
       "      <td>1.10</td>\n",
       "      <td>59.6</td>\n",
       "      <td>60.0</td>\n",
       "    </tr>\n",
       "    <tr>\n",
       "      <th>13481</th>\n",
       "      <td>0.90</td>\n",
       "      <td>62.1</td>\n",
       "      <td>60.0</td>\n",
       "    </tr>\n",
       "    <tr>\n",
       "      <th>13482</th>\n",
       "      <td>0.30</td>\n",
       "      <td>62.1</td>\n",
       "      <td>53.3</td>\n",
       "    </tr>\n",
       "    <tr>\n",
       "      <th>13483</th>\n",
       "      <td>1.25</td>\n",
       "      <td>59.6</td>\n",
       "      <td>59.0</td>\n",
       "    </tr>\n",
       "    <tr>\n",
       "      <th>13484</th>\n",
       "      <td>0.81</td>\n",
       "      <td>61.6</td>\n",
       "      <td>58.0</td>\n",
       "    </tr>\n",
       "  </tbody>\n",
       "</table>\n",
       "<p>13485 rows × 3 columns</p>\n",
       "</div>"
      ],
      "text/plain": [
       "       carat  depth  table\n",
       "0       0.32   60.5   58.0\n",
       "1       1.24   62.9   60.0\n",
       "2       1.66   62.0   59.0\n",
       "3       0.75   60.6   56.0\n",
       "4       1.50   64.8   55.0\n",
       "...      ...    ...    ...\n",
       "13480   1.10   59.6   60.0\n",
       "13481   0.90   62.1   60.0\n",
       "13482   0.30   62.1   53.3\n",
       "13483   1.25   59.6   59.0\n",
       "13484   0.81   61.6   58.0\n",
       "\n",
       "[13485 rows x 3 columns]"
      ]
     },
     "execution_count": 4,
     "metadata": {},
     "output_type": "execute_result"
    }
   ],
   "source": [
    "columnas_numeric = df.select_dtypes(include = np.number)\n",
    "columnas_numeric"
   ]
  },
  {
   "cell_type": "markdown",
   "id": "88f16f5e",
   "metadata": {},
   "source": [
    "### Outliers "
   ]
  },
  {
   "cell_type": "code",
   "execution_count": 5,
   "id": "bd3b0b40",
   "metadata": {},
   "outputs": [],
   "source": [
    "def detectar_outliers_Q1(lista_columnas, dataframe): \n",
    "    \n",
    "    dicc_indices_Q1 = {} # creamos un diccionario donde almacenaremos índices de los outliers\n",
    "    \n",
    "    # iteramos por la lista de las columnas numéricas de nuestro dataframe\n",
    "    for col in lista_columnas:\n",
    "        \n",
    "        #calculamos los cuartiles Q1 y Q3\n",
    "        Q1 = np.nanpercentile(df[col], 25)\n",
    "        Q3 = np.nanpercentile(df[col], 75)\n",
    "        \n",
    "        # calculamos el rango intercuartil\n",
    "        IQR = Q3 - Q1\n",
    "        \n",
    "        # calculamos los límites\n",
    "        outlier_step = 1.5 * IQR\n",
    "        \n",
    "        # filtramos nuestro dataframe para indentificar los outliers\n",
    "        outliers_data_Q1 = dataframe[(dataframe[col] < Q1 - outlier_step)]\n",
    "        \n",
    "        \n",
    "        if outliers_data_Q1.shape[0] > 0: # chequeamos si nuestro dataframe tiene alguna fila. \n",
    "        \n",
    "            dicc_indices_Q1[col] = (list(outliers_data_Q1.index)) # si tiene fila es que hay outliers y por lo tanto lo añadimos a nuestro diccionario\n",
    "        \n",
    "\n",
    "    \n",
    "    return dicc_indices_Q1"
   ]
  },
  {
   "cell_type": "code",
   "execution_count": 6,
   "id": "9a4e6760",
   "metadata": {},
   "outputs": [],
   "source": [
    "def detectar_outliers_Q3(lista_columnas, dataframe): \n",
    "    \n",
    "    dicc_indices_Q3 = {} # creamos un diccionario donde almacenaremos índices de los outliers\n",
    "    \n",
    "    # iteramos por la lista de las columnas numéricas de nuestro dataframe\n",
    "    for col in lista_columnas:\n",
    "        \n",
    "        #calculamos los cuartiles Q1 y Q3\n",
    "        Q1 = np.nanpercentile(df[col], 25)\n",
    "        Q3 = np.nanpercentile(df[col], 75)\n",
    "        \n",
    "        # calculamos el rango intercuartil\n",
    "        IQR = Q3 - Q1\n",
    "        \n",
    "        # calculamos los límites\n",
    "        outlier_step = 1.5 * IQR\n",
    "        \n",
    "        # filtramos nuestro dataframe para indentificar los outliers\n",
    "        outliers_data_Q3 = dataframe[(dataframe[col] > Q3 + outlier_step)]\n",
    "        \n",
    "        \n",
    "        if outliers_data_Q3.shape[0] > 0: # chequeamos si nuestro dataframe tiene alguna fila. \n",
    "        \n",
    "            dicc_indices_Q3[col] = (list(outliers_data_Q3.index)) # si tiene fila es que hay outliers y por lo tanto lo añadimos a nuestro diccionario\n",
    "        \n",
    "\n",
    "    \n",
    "    return dicc_indices_Q3"
   ]
  },
  {
   "cell_type": "code",
   "execution_count": 7,
   "id": "58f8ea4a",
   "metadata": {},
   "outputs": [
    {
     "data": {
      "text/plain": [
       "Index(['carat', 'depth', 'table'], dtype='object')"
      ]
     },
     "execution_count": 7,
     "metadata": {},
     "output_type": "execute_result"
    }
   ],
   "source": [
    "lista_numericas= columnas_numeric.columns\n",
    "lista_numericas"
   ]
  },
  {
   "cell_type": "code",
   "execution_count": 8,
   "id": "bfb2d705",
   "metadata": {},
   "outputs": [],
   "source": [
    "q1= detectar_outliers_Q1(lista_numericas, df)"
   ]
  },
  {
   "cell_type": "code",
   "execution_count": 9,
   "id": "de8c35de",
   "metadata": {},
   "outputs": [],
   "source": [
    "q3= detectar_outliers_Q3(lista_numericas, df)"
   ]
  },
  {
   "cell_type": "code",
   "execution_count": 10,
   "id": "6482bb1a",
   "metadata": {},
   "outputs": [],
   "source": [
    "# lo que vamos a hacer es iterar por el diccionario que nos devuelve la función \n",
    "for k, v in q1.items():\n",
    "    Q1 = np.nanpercentile(df[k], 25) # calculamos el Q1 para cada una de las columnas que tenemos en nuestro diccionario\n",
    "    for i in v: # iteremos por la lista de valores para cada columna\n",
    "        df.loc[i,k] = Q1 "
   ]
  },
  {
   "cell_type": "code",
   "execution_count": 11,
   "id": "5153a5dc",
   "metadata": {},
   "outputs": [],
   "source": [
    "# lo que vamos a hacer es iterar por el diccionario que nos devuelve la función \n",
    "for k, v in q3.items():\n",
    "    Q3 = np.nanpercentile(df[k], 75) # calculamos el Q3 para cada una de las columnas que tenemos en nuestro diccionario\n",
    "    for i in v: # iteremos por la lista de valores para cada columna\n",
    "        df.loc[i,k] = Q3 "
   ]
  },
  {
   "cell_type": "code",
   "execution_count": 14,
   "id": "e32c60c7",
   "metadata": {},
   "outputs": [
    {
     "data": {
      "text/html": [
       "<div>\n",
       "<style scoped>\n",
       "    .dataframe tbody tr th:only-of-type {\n",
       "        vertical-align: middle;\n",
       "    }\n",
       "\n",
       "    .dataframe tbody tr th {\n",
       "        vertical-align: top;\n",
       "    }\n",
       "\n",
       "    .dataframe thead th {\n",
       "        text-align: right;\n",
       "    }\n",
       "</style>\n",
       "<table border=\"1\" class=\"dataframe\">\n",
       "  <thead>\n",
       "    <tr style=\"text-align: right;\">\n",
       "      <th></th>\n",
       "      <th>carat</th>\n",
       "      <th>depth</th>\n",
       "      <th>table</th>\n",
       "    </tr>\n",
       "  </thead>\n",
       "  <tbody>\n",
       "    <tr>\n",
       "      <th>0</th>\n",
       "      <td>0.32</td>\n",
       "      <td>60.5</td>\n",
       "      <td>58.0</td>\n",
       "    </tr>\n",
       "    <tr>\n",
       "      <th>1</th>\n",
       "      <td>1.24</td>\n",
       "      <td>62.9</td>\n",
       "      <td>60.0</td>\n",
       "    </tr>\n",
       "    <tr>\n",
       "      <th>2</th>\n",
       "      <td>1.66</td>\n",
       "      <td>62.0</td>\n",
       "      <td>59.0</td>\n",
       "    </tr>\n",
       "    <tr>\n",
       "      <th>3</th>\n",
       "      <td>0.75</td>\n",
       "      <td>60.6</td>\n",
       "      <td>56.0</td>\n",
       "    </tr>\n",
       "    <tr>\n",
       "      <th>4</th>\n",
       "      <td>1.50</td>\n",
       "      <td>62.5</td>\n",
       "      <td>55.0</td>\n",
       "    </tr>\n",
       "  </tbody>\n",
       "</table>\n",
       "</div>"
      ],
      "text/plain": [
       "   carat  depth  table\n",
       "0   0.32   60.5   58.0\n",
       "1   1.24   62.9   60.0\n",
       "2   1.66   62.0   59.0\n",
       "3   0.75   60.6   56.0\n",
       "4   1.50   62.5   55.0"
      ]
     },
     "execution_count": 14,
     "metadata": {},
     "output_type": "execute_result"
    }
   ],
   "source": [
    "num= df.select_dtypes(include = np.number)\n",
    "num.head()"
   ]
  },
  {
   "cell_type": "code",
   "execution_count": 15,
   "id": "c623227d",
   "metadata": {},
   "outputs": [
    {
     "data": {
      "image/png": "[encoded data removed]",
      "text/plain": [
       "<Figure size 3000x2000 with 3 Axes>"
      ]
     },
     "metadata": {},
     "output_type": "display_data"
    }
   ],
   "source": [
    "fig, ax = plt.subplots(3, 1, figsize=(30,20))\n",
    "\n",
    "for i in range(len(num.columns)):\n",
    "    sns.boxplot(x=num.columns[i], data=num, ax=ax[i])\n",
    "plt.show()"
   ]
  },
  {
   "cell_type": "markdown",
   "id": "e75174e6",
   "metadata": {},
   "source": [
    "### Transformación"
   ]
  },
  {
   "cell_type": "code",
   "execution_count": 22,
   "id": "7ffb2407",
   "metadata": {},
   "outputs": [],
   "source": [
    "# encoding \n",
    "\n",
    "with open('data/encodingclarity.pkl', 'rb') as clarity:\n",
    "    clarity = pickle.load(clarity)  \n",
    "\n",
    "with open('data/encodingcolor.pkl', 'rb') as color:\n",
    "    color = pickle.load(color) \n",
    "\n",
    "with open('data/encodingcut.pkl', 'rb') as cut:\n",
    "    cut = pickle.load(cut) \n",
    "\n",
    "# Estandarización\n",
    "\n",
    "with open('data/estandarizacion1.pkl', 'rb') as stand:\n",
    "    stand = pickle.load(stand)  \n",
    "\n",
    "# cargamos el mejor modelo\n",
    "\n",
    "with open('data/modelo1.pkl', 'rb') as modelo1:\n",
    "    modelo1= pickle.load(modelo1)\n",
    "    \n",
    "with open('data/modelo2.pkl', 'rb') as modelo2:\n",
    "    modelo2= pickle.load(modelo2)\n",
    "\n",
    "with open('data/mejor_modelo2.pkl', 'rb') as best_modelo:\n",
    "    best_modelo = pickle.load(best_modelo)"
   ]
  },
  {
   "cell_type": "code",
   "execution_count": 19,
   "id": "2bfb6d70",
   "metadata": {},
   "outputs": [],
   "source": [
    "#  hacemos el encoding del resto de las variables\n",
    "\n",
    "clar= pd.DataFrame(clarity.transform(df[['clarity']]), columns= ['clarity'])\n",
    "col= pd.DataFrame(color.transform(df[['color']]), columns= ['color'])\n",
    "cut= pd.DataFrame(cut.transform(df[['cut']]), columns= ['cut'])\n",
    "est= pd.DataFrame(stand.transform(df[['carat', 'depth', 'table']]), columns= ['carat', 'depth', 'table'])"
   ]
  },
  {
   "cell_type": "code",
   "execution_count": 20,
   "id": "645b6489",
   "metadata": {},
   "outputs": [
    {
     "data": {
      "text/html": [
       "<div>\n",
       "<style scoped>\n",
       "    .dataframe tbody tr th:only-of-type {\n",
       "        vertical-align: middle;\n",
       "    }\n",
       "\n",
       "    .dataframe tbody tr th {\n",
       "        vertical-align: top;\n",
       "    }\n",
       "\n",
       "    .dataframe thead th {\n",
       "        text-align: right;\n",
       "    }\n",
       "</style>\n",
       "<table border=\"1\" class=\"dataframe\">\n",
       "  <thead>\n",
       "    <tr style=\"text-align: right;\">\n",
       "      <th></th>\n",
       "      <th>clarity</th>\n",
       "      <th>color</th>\n",
       "      <th>cut</th>\n",
       "      <th>carat</th>\n",
       "      <th>depth</th>\n",
       "      <th>table</th>\n",
       "    </tr>\n",
       "  </thead>\n",
       "  <tbody>\n",
       "    <tr>\n",
       "      <th>0</th>\n",
       "      <td>2</td>\n",
       "      <td>1</td>\n",
       "      <td>3</td>\n",
       "      <td>-1.097653</td>\n",
       "      <td>-1.147121</td>\n",
       "      <td>0.296983</td>\n",
       "    </tr>\n",
       "  </tbody>\n",
       "</table>\n",
       "</div>"
      ],
      "text/plain": [
       "   clarity  color  cut     carat     depth     table\n",
       "0        2      1    3 -1.097653 -1.147121  0.296983"
      ]
     },
     "execution_count": 20,
     "metadata": {},
     "output_type": "execute_result"
    }
   ],
   "source": [
    "# unimos todos los conjuntos de datos que hemos ido generando con los transformers\n",
    "\n",
    "df1= pd.concat([clar, col, cut, est], axis = 1)\n",
    "df1.head(1)"
   ]
  },
  {
   "cell_type": "code",
   "execution_count": 21,
   "id": "786e8e54",
   "metadata": {},
   "outputs": [
    {
     "data": {
      "text/html": [
       "<div>\n",
       "<style scoped>\n",
       "    .dataframe tbody tr th:only-of-type {\n",
       "        vertical-align: middle;\n",
       "    }\n",
       "\n",
       "    .dataframe tbody tr th {\n",
       "        vertical-align: top;\n",
       "    }\n",
       "\n",
       "    .dataframe thead th {\n",
       "        text-align: right;\n",
       "    }\n",
       "</style>\n",
       "<table border=\"1\" class=\"dataframe\">\n",
       "  <thead>\n",
       "    <tr style=\"text-align: right;\">\n",
       "      <th></th>\n",
       "      <th>carat</th>\n",
       "      <th>cut</th>\n",
       "      <th>color</th>\n",
       "      <th>clarity</th>\n",
       "      <th>depth</th>\n",
       "      <th>table</th>\n",
       "    </tr>\n",
       "  </thead>\n",
       "  <tbody>\n",
       "    <tr>\n",
       "      <th>0</th>\n",
       "      <td>-1.097653</td>\n",
       "      <td>3</td>\n",
       "      <td>1</td>\n",
       "      <td>2</td>\n",
       "      <td>-1.147121</td>\n",
       "      <td>0.296983</td>\n",
       "    </tr>\n",
       "  </tbody>\n",
       "</table>\n",
       "</div>"
      ],
      "text/plain": [
       "      carat  cut  color  clarity     depth     table\n",
       "0 -1.097653    3      1        2 -1.147121  0.296983"
      ]
     },
     "execution_count": 21,
     "metadata": {},
     "output_type": "execute_result"
    }
   ],
   "source": [
    "# cambiamos el orden de las columnas ya que estas deben estar en el mismo orden de como entrenamos al modelo\n",
    "\n",
    "df1 = df1.reindex(['carat', 'cut', 'color', 'clarity', 'depth', 'table'], axis=1)\n",
    "df1.head(1)"
   ]
  },
  {
   "cell_type": "code",
   "execution_count": 25,
   "id": "accb6e26",
   "metadata": {},
   "outputs": [],
   "source": [
    "# hacemos la predicción \n",
    "\n",
    "df[\"price\"] = modelo1.predict(df1)"
   ]
  },
  {
   "cell_type": "code",
   "execution_count": 26,
   "id": "825fdf2b",
   "metadata": {},
   "outputs": [],
   "source": [
    "submission = pd.DataFrame(df[\"price\"]).reset_index()\n",
    "submission=submission.rename(columns={'index': 'id'})\n",
    "submission.to_csv(\"data/submission_03.csv\", index=False)"
   ]
  },
  {
   "cell_type": "code",
   "execution_count": 27,
   "id": "2a7f00ac",
   "metadata": {},
   "outputs": [],
   "source": [
    "# hacemos la predicción \n",
    "\n",
    "df[\"price\"] = modelo2.predict(df1)"
   ]
  },
  {
   "cell_type": "code",
   "execution_count": 28,
   "id": "7b1a6296",
   "metadata": {},
   "outputs": [],
   "source": [
    "submission = pd.DataFrame(df[\"price\"]).reset_index()\n",
    "submission=submission.rename(columns={'index': 'id'})\n",
    "submission.to_csv(\"data/submission_04.csv\", index=False)"
   ]
  },
  {
   "cell_type": "code",
   "execution_count": 29,
   "id": "0be1bf0b",
   "metadata": {},
   "outputs": [],
   "source": [
    "# hacemos la predicción \n",
    "\n",
    "df[\"price\"] = best_modelo.predict(df1)"
   ]
  },
  {
   "cell_type": "code",
   "execution_count": 30,
   "id": "5900a108",
   "metadata": {},
   "outputs": [],
   "source": [
    "submission = pd.DataFrame(df[\"price\"]).reset_index()\n",
    "submission=submission.rename(columns={'index': 'id'})\n",
    "submission.to_csv(\"data/submission_05.csv\", index=False)"
   ]
  }
 ],
 "metadata": {
  "kernelspec": {
   "display_name": "Bootcamp",
   "language": "python",
   "name": "bootcamp"
  },
  "language_info": {
   "codemirror_mode": {
    "name": "ipython",
    "version": 3
   },
   "file_extension": ".py",
   "mimetype": "text/x-python",
   "name": "python",
   "nbconvert_exporter": "python",
   "pygments_lexer": "ipython3",
   "version": "3.9.13"
  }
 },
 "nbformat": 4,
 "nbformat_minor": 5
}
